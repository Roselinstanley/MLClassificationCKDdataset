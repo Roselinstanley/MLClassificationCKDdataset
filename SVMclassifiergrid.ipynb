{
 "cells": [
  {
   "cell_type": "code",
   "execution_count": 1,
   "id": "0b51ca82-4667-43de-8500-7a20cd0ef8c9",
   "metadata": {},
   "outputs": [],
   "source": [
    "import pandas as pd"
   ]
  },
  {
   "cell_type": "code",
   "execution_count": 2,
   "id": "0ff3d856-0b72-43a2-8718-f67811becaf1",
   "metadata": {},
   "outputs": [
    {
     "data": {
      "text/plain": [
       "Index(['age', 'bp', 'al', 'su', 'bgr', 'bu', 'sc', 'sod', 'pot', 'hrmo', 'pcv',\n",
       "       'wc', 'rc', 'sg_b', 'sg_c', 'sg_d', 'sg_e', 'rbc_normal', 'pc_normal',\n",
       "       'pcc_present', 'ba_present', 'htn_yes', 'dm_yes', 'cad_yes',\n",
       "       'appet_yes', 'pe_yes', 'ane_yes', 'classification_yes'],\n",
       "      dtype='object')"
      ]
     },
     "execution_count": 2,
     "metadata": {},
     "output_type": "execute_result"
    }
   ],
   "source": [
    "dataset=pd.read_csv(\"CKD.csv\")\n",
    "dataset=pd.get_dummies(dataset,drop_first=True,dtype='int')\n",
    "dataset.columns\n"
   ]
  },
  {
   "cell_type": "code",
   "execution_count": 3,
   "id": "5cc4869a-8c58-4420-a616-a76e35fc7834",
   "metadata": {},
   "outputs": [
    {
     "data": {
      "text/plain": [
       "classification_yes\n",
       "1    249\n",
       "0    150\n",
       "Name: count, dtype: int64"
      ]
     },
     "execution_count": 3,
     "metadata": {},
     "output_type": "execute_result"
    }
   ],
   "source": [
    "dataset['classification_yes'].value_counts()"
   ]
  },
  {
   "cell_type": "code",
   "execution_count": 4,
   "id": "4f9e8d40-6fe1-49c9-9e8f-3700351134b7",
   "metadata": {},
   "outputs": [],
   "source": [
    "inde=dataset[['age', 'bp', 'al', 'su', 'bgr', 'bu', 'sc', 'sod', 'pot', 'hrmo', 'pcv',\n",
    "       'wc', 'rc', 'sg_b', 'sg_c', 'sg_d', 'sg_e', 'rbc_normal', 'pc_normal',\n",
    "       'pcc_present', 'ba_present', 'htn_yes', 'dm_yes', 'cad_yes',\n",
    "       'appet_yes', 'pe_yes', 'ane_yes',]]\n",
    "dep=dataset['classification_yes']"
   ]
  },
  {
   "cell_type": "code",
   "execution_count": 5,
   "id": "333d7430-3ca8-4d7f-9a87-306c84a043eb",
   "metadata": {},
   "outputs": [
    {
     "name": "stdout",
     "output_type": "stream",
     "text": [
      "Fitting 5 folds for each of 30 candidates, totalling 150 fits\n"
     ]
    }
   ],
   "source": [
    "from sklearn.model_selection import GridSearchCV\n",
    "from sklearn.svm import SVC\n",
    "para_grid={'kernel':['rbf','sigmoid','linear'],'C':[10,100,1000,2000,3000],'gamma':['auto','scale']}\n",
    "grid=GridSearchCV(SVC(probability=True),para_grid,refit=True,verbose=3,n_jobs=-1,scoring='f1_weighted')\n",
    "grid.fit(inde,dep)\n",
    "pred=grid.predict(inde)"
   ]
  },
  {
   "cell_type": "code",
   "execution_count": 6,
   "id": "d4cac438-c6f5-47e9-8302-719473d785cc",
   "metadata": {},
   "outputs": [
    {
     "name": "stdout",
     "output_type": "stream",
     "text": [
      "[[144   6]\n",
      " [  3 246]]\n"
     ]
    }
   ],
   "source": [
    "from sklearn.metrics import confusion_matrix\n",
    "cm=confusion_matrix(dep,pred)\n",
    "print(cm)"
   ]
  },
  {
   "cell_type": "code",
   "execution_count": 7,
   "id": "f6a34f4c-0d49-480c-b5bb-b95da509d56b",
   "metadata": {},
   "outputs": [
    {
     "name": "stdout",
     "output_type": "stream",
     "text": [
      "              precision    recall  f1-score   support\n",
      "\n",
      "           0       0.98      0.96      0.97       150\n",
      "           1       0.98      0.99      0.98       249\n",
      "\n",
      "    accuracy                           0.98       399\n",
      "   macro avg       0.98      0.97      0.98       399\n",
      "weighted avg       0.98      0.98      0.98       399\n",
      "\n"
     ]
    }
   ],
   "source": [
    "re=grid.cv_results_\n",
    "from sklearn.metrics import classification_report\n",
    "clrep=classification_report(dep,pred)\n",
    "print(clrep)"
   ]
  },
  {
   "cell_type": "code",
   "execution_count": 10,
   "id": "5f1c86aa-8e41-48f1-aee9-cfc1609aeeb1",
   "metadata": {},
   "outputs": [
    {
     "name": "stdout",
     "output_type": "stream",
     "text": [
      "The Best_score value for best parameter {'C': 10, 'gamma': 'auto', 'kernel': 'linear'}: 0.9976171352074965\n"
     ]
    }
   ],
   "source": [
    "from sklearn.metrics import roc_auc_score\n",
    "ROCscore=roc_auc_score(dep,grid.predict_proba(inde)[:,1])\n",
    "print(\"The Best_score value for best parameter {}:\".format(grid.best_params_),ROCscore)"
   ]
  },
  {
   "cell_type": "code",
   "execution_count": null,
   "id": "5385dbf2-242e-4e42-ae4e-d8816327fb40",
   "metadata": {},
   "outputs": [],
   "source": []
  }
 ],
 "metadata": {
  "kernelspec": {
   "display_name": "Python 3 (ipykernel)",
   "language": "python",
   "name": "python3"
  },
  "language_info": {
   "codemirror_mode": {
    "name": "ipython",
    "version": 3
   },
   "file_extension": ".py",
   "mimetype": "text/x-python",
   "name": "python",
   "nbconvert_exporter": "python",
   "pygments_lexer": "ipython3",
   "version": "3.12.4"
  }
 },
 "nbformat": 4,
 "nbformat_minor": 5
}
