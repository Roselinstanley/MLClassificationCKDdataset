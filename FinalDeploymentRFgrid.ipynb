{
 "cells": [
  {
   "cell_type": "code",
   "execution_count": 5,
   "id": "cbf856f1-1f9b-40ab-9cba-388e6b8e8a2e",
   "metadata": {},
   "outputs": [
    {
     "name": "stdin",
     "output_type": "stream",
     "text": [
      "Enter Age 23\n",
      "Enter BP 84\n",
      "Enter al 3\n",
      "Enter su 4\n",
      "Enter bgr 145\n",
      "Enter bu 65\n",
      "Enter sc 4.5\n",
      "Enter sod 140\n",
      "Enter pot 4.8\n",
      "Enter hrmo 15.2\n",
      "Enter pcv 35.5\n",
      "Enter wc 9000\n",
      "Enter rc 4.6\n",
      "Enter sg_b 0\n",
      "Enter sg_c 1\n",
      "Enter sg_d 0\n",
      "Enter sg_e 0\n",
      "Enter rbc_normal 1\n",
      "Enter pc_normal 1\n",
      "Enter pcc_present 0\n",
      "Enter ba_present 0\n",
      "Enter htn_yes 1\n",
      "Enter dm_yes 0\n",
      "Enter cad_yes 1\n",
      "Enter appet_yes 0\n",
      "Enter pe_yes 1\n",
      "Enter ane_yes 1\n"
     ]
    },
    {
     "name": "stdout",
     "output_type": "stream",
     "text": [
      "Classification [0-No,1-Yes] Predicted={} [1]\n"
     ]
    },
    {
     "name": "stderr",
     "output_type": "stream",
     "text": [
      "C:\\Users\\Admin\\anaconda3\\Lib\\site-packages\\sklearn\\base.py:493: UserWarning: X does not have valid feature names, but RandomForestClassifier was fitted with feature names\n",
      "  warnings.warn(\n"
     ]
    }
   ],
   "source": [
    "import pickle\n",
    "l_model=pickle.load(open('final.sav',\"rb\"))\n",
    "age=int(input(\"Enter Age\"))\n",
    "BP=int(input(\"Enter BP\"))\n",
    "al=int(input(\"Enter al\"))\n",
    "su=int(input(\"Enter su\"))\n",
    "bgr=float(input(\"Enter bgr\"))\n",
    "bu=float(input(\"Enter bu\"))\n",
    "sc=float(input(\"Enter sc\"))\n",
    "sod=float(input(\"Enter sod\"))\n",
    "pot=float(input(\"Enter pot\"))\n",
    "hrmo=float(input(\"Enter hrmo\"))\n",
    "pcv=float(input(\"Enter pcv\"))\n",
    "wc=float(input(\"Enter wc\"))\n",
    "rc=float(input(\"Enter rc\"))\n",
    "sg_b=input(\"Enter sg_b\")\n",
    "sg_c=input(\"Enter sg_c\")\n",
    "sg_d=input(\"Enter sg_d\")\n",
    "sg_e=input(\"Enter sg_e\")\n",
    "rbc=input(\"Enter rbc_normal\")\n",
    "pc=input(\"Enter pc_normal\")\n",
    "pcc=input(\"Enter pcc_present\")\n",
    "ba=input(\"Enter ba_present\")\n",
    "htn=input(\"Enter htn_yes\")\n",
    "dm=input(\"Enter dm_yes\")\n",
    "cad=input(\"Enter cad_yes\")\n",
    "appet=input(\"Enter appet_yes\")\n",
    "pe=input(\"Enter pe_yes\")\n",
    "ane=input(\"Enter ane_yes\")\n",
    "pred=l_model.predict([[age,BP,al,su,bgr,bu,sc,sod,pot,hrmo,pcv,wc,rc,sg_b,sg_c,sg_d,sg_e,rbc,pc,pcc,ba,htn,dm,cad,appet,pe,ane]])\n",
    "print(\"Classification [0-No,1-Yes] Predicted={}\",pred)"
   ]
  }
 ],
 "metadata": {
  "kernelspec": {
   "display_name": "Python 3 (ipykernel)",
   "language": "python",
   "name": "python3"
  },
  "language_info": {
   "codemirror_mode": {
    "name": "ipython",
    "version": 3
   },
   "file_extension": ".py",
   "mimetype": "text/x-python",
   "name": "python",
   "nbconvert_exporter": "python",
   "pygments_lexer": "ipython3",
   "version": "3.12.4"
  }
 },
 "nbformat": 4,
 "nbformat_minor": 5
}
